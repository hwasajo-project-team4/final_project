{
 "cells": [
  {
   "cell_type": "code",
   "execution_count": 1,
   "metadata": {},
   "outputs": [
    {
     "data": {
      "text/html": [
       "<div>\n",
       "<style scoped>\n",
       "    .dataframe tbody tr th:only-of-type {\n",
       "        vertical-align: middle;\n",
       "    }\n",
       "\n",
       "    .dataframe tbody tr th {\n",
       "        vertical-align: top;\n",
       "    }\n",
       "\n",
       "    .dataframe thead th {\n",
       "        text-align: right;\n",
       "    }\n",
       "</style>\n",
       "<table border=\"1\" class=\"dataframe\">\n",
       "  <thead>\n",
       "    <tr style=\"text-align: right;\">\n",
       "      <th></th>\n",
       "      <th>상품분류</th>\n",
       "      <th>브랜드명</th>\n",
       "      <th>상품명</th>\n",
       "      <th>사용자 이름</th>\n",
       "      <th>별점</th>\n",
       "      <th>리뷰작성날짜</th>\n",
       "      <th>나이</th>\n",
       "      <th>성별</th>\n",
       "      <th>피부타입</th>\n",
       "      <th>피부트러블</th>\n",
       "      <th>리뷰</th>\n",
       "    </tr>\n",
       "  </thead>\n",
       "  <tbody>\n",
       "    <tr>\n",
       "      <th>0</th>\n",
       "      <td>뷰티푸드</td>\n",
       "      <td>바이탈뷰티</td>\n",
       "      <td>메타그린 부스터샷 7일</td>\n",
       "      <td>mimi**</td>\n",
       "      <td>5</td>\n",
       "      <td>2023.08.24</td>\n",
       "      <td>30대</td>\n",
       "      <td>여성</td>\n",
       "      <td>건성</td>\n",
       "      <td>건조함</td>\n",
       "      <td>여름휴가철을 앞두고 몸매관리에 필요성을 느껴서 어디껄 살까 고민하다가 마침 전에 증...</td>\n",
       "    </tr>\n",
       "    <tr>\n",
       "      <th>1</th>\n",
       "      <td>뷰티푸드</td>\n",
       "      <td>바이탈뷰티</td>\n",
       "      <td>메타그린 부스터샷 7일</td>\n",
       "      <td>yooy****</td>\n",
       "      <td>5</td>\n",
       "      <td>2023.08.22</td>\n",
       "      <td>40대</td>\n",
       "      <td>여성</td>\n",
       "      <td>복합성</td>\n",
       "      <td>모공</td>\n",
       "      <td>아직 복용전 입니다. 메타그린 먹고 있어서 함께 사용하려고 구입 했습니다.</td>\n",
       "    </tr>\n",
       "    <tr>\n",
       "      <th>2</th>\n",
       "      <td>뷰티푸드</td>\n",
       "      <td>바이탈뷰티</td>\n",
       "      <td>메타그린 부스터샷 7일</td>\n",
       "      <td>n199**</td>\n",
       "      <td>5</td>\n",
       "      <td>2023.08.21</td>\n",
       "      <td>30대</td>\n",
       "      <td>여성</td>\n",
       "      <td>복합성</td>\n",
       "      <td>트러블</td>\n",
       "      <td>아무래도 가격이 있는 편이라 좀 부담스럽긴 하지만 원래 제품을 꾸준히 먹고 도움 받...</td>\n",
       "    </tr>\n",
       "    <tr>\n",
       "      <th>3</th>\n",
       "      <td>뷰티푸드</td>\n",
       "      <td>바이탈뷰티</td>\n",
       "      <td>메타그린 부스터샷 7일</td>\n",
       "      <td>n199**</td>\n",
       "      <td>4</td>\n",
       "      <td>2023.08.21</td>\n",
       "      <td>30대</td>\n",
       "      <td>여성</td>\n",
       "      <td>복합성</td>\n",
       "      <td>트러블</td>\n",
       "      <td>저는 운동이랑 식단 병행하면서 도움 받았어요. 유지어터라 그럴 수도 있지만 살을 빼...</td>\n",
       "    </tr>\n",
       "    <tr>\n",
       "      <th>4</th>\n",
       "      <td>뷰티푸드</td>\n",
       "      <td>바이탈뷰티</td>\n",
       "      <td>메타그린 부스터샷 7일</td>\n",
       "      <td>dlfw*****</td>\n",
       "      <td>4</td>\n",
       "      <td>2023.08.19</td>\n",
       "      <td>30대</td>\n",
       "      <td>여성</td>\n",
       "      <td>건성</td>\n",
       "      <td>건조함</td>\n",
       "      <td>먹은지 며칠 안돼서 효과는 잘 모르겠으나 먹기 간편해서 좋고 맛있네요ㅎㅎ</td>\n",
       "    </tr>\n",
       "  </tbody>\n",
       "</table>\n",
       "</div>"
      ],
      "text/plain": [
       "   상품분류   브랜드명           상품명     사용자 이름  별점      리뷰작성날짜   나이  성별 피부타입 피부트러블  \\\n",
       "0  뷰티푸드  바이탈뷰티  메타그린 부스터샷 7일     mimi**   5  2023.08.24  30대  여성   건성   건조함   \n",
       "1  뷰티푸드  바이탈뷰티  메타그린 부스터샷 7일   yooy****   5  2023.08.22  40대  여성  복합성    모공   \n",
       "2  뷰티푸드  바이탈뷰티  메타그린 부스터샷 7일     n199**   5  2023.08.21  30대  여성  복합성   트러블   \n",
       "3  뷰티푸드  바이탈뷰티  메타그린 부스터샷 7일     n199**   4  2023.08.21  30대  여성  복합성   트러블   \n",
       "4  뷰티푸드  바이탈뷰티  메타그린 부스터샷 7일  dlfw*****   4  2023.08.19  30대  여성   건성   건조함   \n",
       "\n",
       "                                                  리뷰  \n",
       "0  여름휴가철을 앞두고 몸매관리에 필요성을 느껴서 어디껄 살까 고민하다가 마침 전에 증...  \n",
       "1          아직 복용전 입니다. 메타그린 먹고 있어서 함께 사용하려고 구입 했습니다.  \n",
       "2  아무래도 가격이 있는 편이라 좀 부담스럽긴 하지만 원래 제품을 꾸준히 먹고 도움 받...  \n",
       "3  저는 운동이랑 식단 병행하면서 도움 받았어요. 유지어터라 그럴 수도 있지만 살을 빼...  \n",
       "4           먹은지 며칠 안돼서 효과는 잘 모르겠으나 먹기 간편해서 좋고 맛있네요ㅎㅎ  "
      ]
     },
     "execution_count": 1,
     "metadata": {},
     "output_type": "execute_result"
    }
   ],
   "source": [
    "import pandas as pd\n",
    "\n",
    "# 파일 경로\n",
    "files = [\n",
    "    f\"뷰티푸드 별점.csv\",\n",
    "    f\"소품도구 별점.csv\",\n",
    "    f\"아모레크롤링_스킨케어_완료.csv\",\n",
    "    f\"아모레크롤링_메이크업_완료.csv\",\n",
    "    f\"향수 별점.csv\"\n",
    "]\n",
    "\n",
    "\n",
    "df_list = []\n",
    "\n",
    "\n",
    "for file in files:\n",
    "    temp_df = pd.read_csv(file)\n",
    "    df_list.append(temp_df)\n",
    "\n",
    "\n",
    "df = pd.concat(df_list, ignore_index=True)\n",
    "\n",
    "\n",
    "df.head()\n"
   ]
  },
  {
   "cell_type": "code",
   "execution_count": 2,
   "metadata": {},
   "outputs": [],
   "source": [
    "import re\n",
    "import pandas as pd\n",
    "import numpy as np\n",
    "import matplotlib.pyplot as plt\n",
    "import urllib.request\n",
    "from collections import Counter\n",
    "from konlpy.tag import Mecab\n",
    "from sklearn.model_selection import train_test_split\n",
    "from keras.preprocessing.text import Tokenizer\n",
    "from keras.preprocessing.sequence import pad_sequences"
   ]
  },
  {
   "cell_type": "code",
   "execution_count": 3,
   "metadata": {},
   "outputs": [],
   "source": [
    "total_data = df.copy()"
   ]
  },
  {
   "cell_type": "code",
   "execution_count": 4,
   "metadata": {},
   "outputs": [
    {
     "data": {
      "text/html": [
       "<div>\n",
       "<style scoped>\n",
       "    .dataframe tbody tr th:only-of-type {\n",
       "        vertical-align: middle;\n",
       "    }\n",
       "\n",
       "    .dataframe tbody tr th {\n",
       "        vertical-align: top;\n",
       "    }\n",
       "\n",
       "    .dataframe thead th {\n",
       "        text-align: right;\n",
       "    }\n",
       "</style>\n",
       "<table border=\"1\" class=\"dataframe\">\n",
       "  <thead>\n",
       "    <tr style=\"text-align: right;\">\n",
       "      <th></th>\n",
       "      <th>상품분류</th>\n",
       "      <th>브랜드명</th>\n",
       "      <th>상품명</th>\n",
       "      <th>사용자 이름</th>\n",
       "      <th>별점</th>\n",
       "      <th>리뷰작성날짜</th>\n",
       "      <th>나이</th>\n",
       "      <th>성별</th>\n",
       "      <th>피부타입</th>\n",
       "      <th>피부트러블</th>\n",
       "      <th>리뷰</th>\n",
       "    </tr>\n",
       "  </thead>\n",
       "  <tbody>\n",
       "    <tr>\n",
       "      <th>0</th>\n",
       "      <td>뷰티푸드</td>\n",
       "      <td>바이탈뷰티</td>\n",
       "      <td>메타그린 부스터샷 7일</td>\n",
       "      <td>mimi**</td>\n",
       "      <td>5</td>\n",
       "      <td>2023.08.24</td>\n",
       "      <td>30대</td>\n",
       "      <td>여성</td>\n",
       "      <td>건성</td>\n",
       "      <td>건조함</td>\n",
       "      <td>여름휴가철을 앞두고 몸매관리에 필요성을 느껴서 어디껄 살까 고민하다가 마침 전에 증...</td>\n",
       "    </tr>\n",
       "    <tr>\n",
       "      <th>1</th>\n",
       "      <td>뷰티푸드</td>\n",
       "      <td>바이탈뷰티</td>\n",
       "      <td>메타그린 부스터샷 7일</td>\n",
       "      <td>yooy****</td>\n",
       "      <td>5</td>\n",
       "      <td>2023.08.22</td>\n",
       "      <td>40대</td>\n",
       "      <td>여성</td>\n",
       "      <td>복합성</td>\n",
       "      <td>모공</td>\n",
       "      <td>아직 복용전 입니다. 메타그린 먹고 있어서 함께 사용하려고 구입 했습니다.</td>\n",
       "    </tr>\n",
       "    <tr>\n",
       "      <th>2</th>\n",
       "      <td>뷰티푸드</td>\n",
       "      <td>바이탈뷰티</td>\n",
       "      <td>메타그린 부스터샷 7일</td>\n",
       "      <td>n199**</td>\n",
       "      <td>5</td>\n",
       "      <td>2023.08.21</td>\n",
       "      <td>30대</td>\n",
       "      <td>여성</td>\n",
       "      <td>복합성</td>\n",
       "      <td>트러블</td>\n",
       "      <td>아무래도 가격이 있는 편이라 좀 부담스럽긴 하지만 원래 제품을 꾸준히 먹고 도움 받...</td>\n",
       "    </tr>\n",
       "    <tr>\n",
       "      <th>3</th>\n",
       "      <td>뷰티푸드</td>\n",
       "      <td>바이탈뷰티</td>\n",
       "      <td>메타그린 부스터샷 7일</td>\n",
       "      <td>n199**</td>\n",
       "      <td>4</td>\n",
       "      <td>2023.08.21</td>\n",
       "      <td>30대</td>\n",
       "      <td>여성</td>\n",
       "      <td>복합성</td>\n",
       "      <td>트러블</td>\n",
       "      <td>저는 운동이랑 식단 병행하면서 도움 받았어요. 유지어터라 그럴 수도 있지만 살을 빼...</td>\n",
       "    </tr>\n",
       "    <tr>\n",
       "      <th>4</th>\n",
       "      <td>뷰티푸드</td>\n",
       "      <td>바이탈뷰티</td>\n",
       "      <td>메타그린 부스터샷 7일</td>\n",
       "      <td>dlfw*****</td>\n",
       "      <td>4</td>\n",
       "      <td>2023.08.19</td>\n",
       "      <td>30대</td>\n",
       "      <td>여성</td>\n",
       "      <td>건성</td>\n",
       "      <td>건조함</td>\n",
       "      <td>먹은지 며칠 안돼서 효과는 잘 모르겠으나 먹기 간편해서 좋고 맛있네요ㅎㅎ</td>\n",
       "    </tr>\n",
       "  </tbody>\n",
       "</table>\n",
       "</div>"
      ],
      "text/plain": [
       "   상품분류   브랜드명           상품명     사용자 이름  별점      리뷰작성날짜   나이  성별 피부타입 피부트러블  \\\n",
       "0  뷰티푸드  바이탈뷰티  메타그린 부스터샷 7일     mimi**   5  2023.08.24  30대  여성   건성   건조함   \n",
       "1  뷰티푸드  바이탈뷰티  메타그린 부스터샷 7일   yooy****   5  2023.08.22  40대  여성  복합성    모공   \n",
       "2  뷰티푸드  바이탈뷰티  메타그린 부스터샷 7일     n199**   5  2023.08.21  30대  여성  복합성   트러블   \n",
       "3  뷰티푸드  바이탈뷰티  메타그린 부스터샷 7일     n199**   4  2023.08.21  30대  여성  복합성   트러블   \n",
       "4  뷰티푸드  바이탈뷰티  메타그린 부스터샷 7일  dlfw*****   4  2023.08.19  30대  여성   건성   건조함   \n",
       "\n",
       "                                                  리뷰  \n",
       "0  여름휴가철을 앞두고 몸매관리에 필요성을 느껴서 어디껄 살까 고민하다가 마침 전에 증...  \n",
       "1          아직 복용전 입니다. 메타그린 먹고 있어서 함께 사용하려고 구입 했습니다.  \n",
       "2  아무래도 가격이 있는 편이라 좀 부담스럽긴 하지만 원래 제품을 꾸준히 먹고 도움 받...  \n",
       "3  저는 운동이랑 식단 병행하면서 도움 받았어요. 유지어터라 그럴 수도 있지만 살을 빼...  \n",
       "4           먹은지 며칠 안돼서 효과는 잘 모르겠으나 먹기 간편해서 좋고 맛있네요ㅎㅎ  "
      ]
     },
     "execution_count": 4,
     "metadata": {},
     "output_type": "execute_result"
    }
   ],
   "source": [
    "total_data.head()"
   ]
  },
  {
   "cell_type": "code",
   "execution_count": 5,
   "metadata": {},
   "outputs": [],
   "source": [
    "# 레이블 생성 조건\n",
    "conditions = [\n",
    "    (total_data['별점'] >= 4),  # 평점 4 이상\n",
    "    (total_data['별점'] == 3),  # 평점 3\n",
    "    (total_data['별점'] <= 2)   # 평점 2 이하\n",
    "]\n",
    "\n",
    "# 각 조건에 할당될 레이블\n",
    "choices = [1, 2, 0]\n",
    "\n",
    "# 레이블 할당\n",
    "total_data['label'] = np.select(conditions, choices, default=0)"
   ]
  },
  {
   "cell_type": "code",
   "execution_count": 6,
   "metadata": {},
   "outputs": [
    {
     "data": {
      "text/plain": [
       "(5, 197635, 3)"
      ]
     },
     "execution_count": 6,
     "metadata": {},
     "output_type": "execute_result"
    }
   ],
   "source": [
    "total_data['별점'].nunique(), total_data['리뷰'].nunique(), total_data['label'].nunique()"
   ]
  },
  {
   "cell_type": "code",
   "execution_count": 7,
   "metadata": {},
   "outputs": [
    {
     "name": "stdout",
     "output_type": "stream",
     "text": [
      "True\n"
     ]
    }
   ],
   "source": [
    "print(total_data.isnull().values.any())"
   ]
  },
  {
   "cell_type": "code",
   "execution_count": 8,
   "metadata": {},
   "outputs": [
    {
     "data": {
      "text/plain": [
       "상품분류          0\n",
       "브랜드명          0\n",
       "상품명           0\n",
       "사용자 이름        0\n",
       "별점            0\n",
       "리뷰작성날짜        0\n",
       "나이            0\n",
       "성별            0\n",
       "피부타입      41106\n",
       "피부트러블     41639\n",
       "리뷰            0\n",
       "label         0\n",
       "dtype: int64"
      ]
     },
     "execution_count": 8,
     "metadata": {},
     "output_type": "execute_result"
    }
   ],
   "source": [
    "total_data.isnull().sum()\n"
   ]
  },
  {
   "cell_type": "code",
   "execution_count": 9,
   "metadata": {},
   "outputs": [
    {
     "name": "stdout",
     "output_type": "stream",
     "text": [
      "label\n",
      "1    195351\n",
      "0     43800\n",
      "2     34850\n",
      "Name: count, dtype: int64\n"
     ]
    }
   ],
   "source": [
    "from sklearn.utils import resample\n",
    "\n",
    "# 레이블에 따라 데이터 분리\n",
    "df_majority = total_data[total_data.label==1]\n",
    "df_minority = total_data[total_data.label==0]\n",
    "\n",
    "# 레이블 0에 대한 오버샘플링\n",
    "df_minority_0_upsampled = resample(df_minority, \n",
    "                                   replace=True,  # 샘플을 복제\n",
    "                                   n_samples=int(len(df_minority) * 30),  # 소수 클래스 샘플 수의 3배로 설정\n",
    "                                   random_state=42)  # 재현 가능성을 위한 랜덤 상태\n",
    "\n",
    "# 레이블 2에 대한 오버샘플링\n",
    "df_minority_2 = total_data[total_data.label==2]\n",
    "df_minority_2_upsampled = resample(df_minority_2, \n",
    "                                   replace=True,  # 샘플을 복제\n",
    "                                   n_samples=int(len(df_minority_2) * 5),  # 소수 클래스 샘플 수의 3배로 설정\n",
    "                                   random_state=42)  # 재현 가능성을 위한 랜덤 상태\n",
    "\n",
    "# 오버샘플링된 데이터프레임 생성\n",
    "df_upsampled = pd.concat([df_majority, df_minority_0_upsampled, df_minority_2_upsampled])\n",
    "\n",
    "# 레이블 분포 확인\n",
    "print(df_upsampled.label.value_counts())"
   ]
  },
  {
   "cell_type": "code",
   "execution_count": 10,
   "metadata": {},
   "outputs": [
    {
     "name": "stdout",
     "output_type": "stream",
     "text": [
      "훈련용 리뷰의 개수: 205500\n",
      "테스트용 리뷰의 개수: 68501\n"
     ]
    }
   ],
   "source": [
    "\n",
    "# 훈련 데이터와 테스트 데이터를 3:1 비율로 분리\n",
    "train_data, test_data = train_test_split(df_upsampled, test_size=0.25, random_state=42)\n",
    "\n",
    "print('훈련용 리뷰의 개수:', len(train_data))\n",
    "print('테스트용 리뷰의 개수:', len(test_data))"
   ]
  },
  {
   "cell_type": "code",
   "execution_count": 11,
   "metadata": {},
   "outputs": [
    {
     "data": {
      "text/plain": [
       "<Axes: xlabel='label'>"
      ]
     },
     "execution_count": 11,
     "metadata": {},
     "output_type": "execute_result"
    },
    {
     "data": {
      "image/png": "[encoded data removed]",
      "text/plain": [
       "<Figure size 640x480 with 1 Axes>"
      ]
     },
     "metadata": {},
     "output_type": "display_data"
    }
   ],
   "source": [
    "\n",
    "\n",
    "train_data['label'].value_counts().plot(kind = 'bar')"
   ]
  },
  {
   "cell_type": "code",
   "execution_count": 12,
   "metadata": {},
   "outputs": [
    {
     "name": "stdout",
     "output_type": "stream",
     "text": [
      "   label   count\n",
      "0      0   32672\n",
      "1      1  146624\n",
      "2      2   26204\n"
     ]
    }
   ],
   "source": [
    "print(train_data.groupby('label').size().reset_index(name = 'count'))"
   ]
  },
  {
   "cell_type": "code",
   "execution_count": 13,
   "metadata": {},
   "outputs": [
    {
     "name": "stdout",
     "output_type": "stream",
     "text": [
      "상품분류          0\n",
      "브랜드명          0\n",
      "상품명           0\n",
      "사용자 이름        0\n",
      "별점            0\n",
      "리뷰작성날짜        0\n",
      "나이            0\n",
      "성별            0\n",
      "피부타입      43829\n",
      "피부트러블     44539\n",
      "리뷰            0\n",
      "label         0\n",
      "dtype: int64\n"
     ]
    }
   ],
   "source": [
    "# 한글과 공백을 제외하고 모두 제거\n",
    "train_data['리뷰'] = train_data['리뷰'].str.replace(\"[^ㄱ-ㅎㅏ-ㅣ가-힣 ]\",\"\")\n",
    "train_data['리뷰'].replace('', np.nan, inplace=True)\n",
    "print(train_data.isnull().sum())"
   ]
  },
  {
   "cell_type": "code",
   "execution_count": 14,
   "metadata": {},
   "outputs": [
    {
     "name": "stdout",
     "output_type": "stream",
     "text": [
      "전처리 후 테스트용 샘플의 개수 : 43063\n"
     ]
    }
   ],
   "source": [
    "test_data.drop_duplicates(subset = ['리뷰'], inplace=True) # 중복 제거\n",
    "test_data['리뷰'] = test_data['리뷰'].str.replace(\"[^ㄱ-ㅎㅏ-ㅣ가-힣 ]\",\"\") # 정규 표현식 수행\n",
    "test_data['리뷰'].replace('', np.nan, inplace=True) # 공백은 Null 값으로 변경\n",
    "test_data = test_data.dropna(how='any') # Null 값 제거\n",
    "print('전처리 후 테스트용 샘플의 개수 :',len(test_data))"
   ]
  },
  {
   "cell_type": "code",
   "execution_count": 15,
   "metadata": {},
   "outputs": [
    {
     "name": "stdout",
     "output_type": "stream",
     "text": [
      "['와', '이런', '것', '도', '상품', '이', '라고', '차라리', '내', '가', '만드', '는', '게', '나을', '뻔']\n"
     ]
    }
   ],
   "source": [
    "from eunjeon import Mecab\n",
    "\n",
    "mecab = Mecab()\n",
    "print(mecab.morphs('와 이런 것도 상품이라고 차라리 내가 만드는 게 나을 뻔'))\n",
    "\n",
    "stopwords = ['도', '는', '다', '의', '가', '이', '은', '한', '에', '하', '고', '을', '를', '인', '듯', '과', '와', '네', '들', '듯', '지', '임', '게']"
   ]
  },
  {
   "cell_type": "code",
   "execution_count": 16,
   "metadata": {},
   "outputs": [],
   "source": [
    "train_data['tokenized'] = train_data['리뷰'].apply(mecab.morphs)\n",
    "train_data['tokenized'] = train_data['tokenized'].apply(lambda x: [item for item in x if item not in stopwords])"
   ]
  },
  {
   "cell_type": "code",
   "execution_count": 17,
   "metadata": {},
   "outputs": [],
   "source": [
    "test_data['tokenized'] = test_data['리뷰'].apply(mecab.morphs)\n",
    "test_data['tokenized'] = test_data['tokenized'].apply(lambda x: [item for item in x if item not in stopwords])"
   ]
  },
  {
   "cell_type": "code",
   "execution_count": 18,
   "metadata": {},
   "outputs": [],
   "source": [
    "negative_words = np.hstack(train_data[train_data.label == 0]['tokenized'].values)\n",
    "neutral_words = np.hstack(train_data[train_data.label == 1]['tokenized'].values)\n",
    "positive_words = np.hstack(train_data[train_data.label == 2]['tokenized'].values)\n"
   ]
  },
  {
   "cell_type": "code",
   "execution_count": 19,
   "metadata": {},
   "outputs": [
    {
     "name": "stdout",
     "output_type": "stream",
     "text": [
      "[('좋', 20974), ('있', 15802), ('사용', 14891), ('어요', 14482), ('같', 14464), ('네요', 13157), ('아요', 12961), ('는데', 12508), ('구매', 11445), ('것', 10325), ('잘', 10250), ('제품', 10136), ('했', 9990), ('습니다', 9719), ('않', 8837), ('되', 8511), ('해', 8003), ('기', 7791), ('해서', 7544), ('보', 7461)]\n"
     ]
    }
   ],
   "source": [
    "from collections import Counter\n",
    "\n",
    "# 문장 부호 및 특수 문자 리스트\n",
    "stop_words = ['.', ',', '!', '?']\n",
    "\n",
    "# 문장 부호/특수 문자 제거\n",
    "filtered_words = [word for word in positive_words if word not in stop_words]\n",
    "\n",
    "# 빈도수 계산\n",
    "positive_word_count = Counter(filtered_words)\n",
    "\n",
    "# 가장 빈번하게 등장하는 단어 20개 출력\n",
    "print(positive_word_count.most_common(20))\n"
   ]
  },
  {
   "cell_type": "code",
   "execution_count": 20,
   "metadata": {},
   "outputs": [
    {
     "name": "stdout",
     "output_type": "stream",
     "text": [
      "긍정 리뷰의 평균 길이 : 49.07665184417285\n",
      "중립 리뷰의 평균 길이 : 45.11002137078309\n",
      "부정 리뷰의 평균 길이 : 50.830986777668954\n"
     ]
    },
    {
     "data": {
      "image/png": "[encoded data removed]",
      "text/plain": [
       "<Figure size 1500x500 with 3 Axes>"
      ]
     },
     "metadata": {},
     "output_type": "display_data"
    }
   ],
   "source": [
    "fig, (ax1, ax2, ax3) = plt.subplots(1, 3, figsize=(15, 5))\n",
    "\n",
    "# 긍정 리뷰\n",
    "text_len = train_data[train_data['label'] == 1]['tokenized'].map(lambda x: len(x))\n",
    "ax1.hist(text_len, color='red')\n",
    "ax1.set_title('Positive Reviews')\n",
    "ax1.set_xlabel('length of samples')\n",
    "ax1.set_ylabel('number of samples')\n",
    "print('긍정 리뷰의 평균 길이 :', np.mean(text_len))\n",
    "\n",
    "# 중립 리뷰\n",
    "text_len = train_data[train_data['label'] == 2]['tokenized'].map(lambda x: len(x))\n",
    "ax2.hist(text_len, color='green')\n",
    "ax2.set_title('Neutral Reviews')\n",
    "ax2.set_xlabel('length of samples')\n",
    "ax2.set_ylabel('number of samples')\n",
    "print('중립 리뷰의 평균 길이 :', np.mean(text_len))\n",
    "\n",
    "# 부정 리뷰\n",
    "text_len = train_data[train_data['label'] == 0]['tokenized'].map(lambda x: len(x))\n",
    "ax3.hist(text_len, color='blue')\n",
    "ax3.set_title('Negative Reviews')\n",
    "ax3.set_xlabel('length of samples')\n",
    "ax3.set_ylabel('number of samples')\n",
    "print('부정 리뷰의 평균 길이 :', np.mean(text_len))\n",
    "\n",
    "fig.suptitle('Words in texts')\n",
    "plt.show()\n"
   ]
  },
  {
   "cell_type": "code",
   "execution_count": 21,
   "metadata": {},
   "outputs": [],
   "source": [
    "X_train = train_data['tokenized'].values\n",
    "y_train = train_data['label'].values\n",
    "X_test= test_data['tokenized'].values\n",
    "y_test = test_data['label'].values"
   ]
  },
  {
   "cell_type": "code",
   "execution_count": 22,
   "metadata": {},
   "outputs": [],
   "source": [
    "\n",
    "tokenizer = Tokenizer()\n",
    "tokenizer.fit_on_texts(X_train)"
   ]
  },
  {
   "cell_type": "code",
   "execution_count": 23,
   "metadata": {},
   "outputs": [
    {
     "name": "stdout",
     "output_type": "stream",
     "text": [
      "단어 집합(vocabulary)의 크기 : 45603\n",
      "등장 빈도가 1번 이하인 희귀 단어의 수: 18188\n",
      "단어 집합에서 희귀 단어의 비율: 39.883341008266996\n",
      "전체 등장 빈도에서 희귀 단어 등장 빈도 비율: 0.181180137365385\n"
     ]
    }
   ],
   "source": [
    "threshold = 2\n",
    "total_cnt = len(tokenizer.word_index) # 단어의 수\n",
    "rare_cnt = 0 # 등장 빈도수가 threshold보다 작은 단어의 개수를 카운트\n",
    "total_freq = 0 # 훈련 데이터의 전체 단어 빈도수 총 합\n",
    "rare_freq = 0 # 등장 빈도수가 threshold보다 작은 단어의 등장 빈도수의 총 합\n",
    "\n",
    "# 단어와 빈도수의 쌍(pair)을 key와 value로 받는다.\n",
    "for key, value in tokenizer.word_counts.items():\n",
    "    total_freq = total_freq + value\n",
    "\n",
    "    # 단어의 등장 빈도수가 threshold보다 작으면\n",
    "    if(value < threshold):\n",
    "        rare_cnt = rare_cnt + 1\n",
    "        rare_freq = rare_freq + value\n",
    "\n",
    "print('단어 집합(vocabulary)의 크기 :',total_cnt)\n",
    "print('등장 빈도가 %s번 이하인 희귀 단어의 수: %s'%(threshold - 1, rare_cnt))\n",
    "print(\"단어 집합에서 희귀 단어의 비율:\", (rare_cnt / total_cnt)*100)\n",
    "print(\"전체 등장 빈도에서 희귀 단어 등장 빈도 비율:\", (rare_freq / total_freq)*100)"
   ]
  },
  {
   "cell_type": "code",
   "execution_count": 24,
   "metadata": {},
   "outputs": [
    {
     "name": "stdout",
     "output_type": "stream",
     "text": [
      "단어 집합의 크기 : 27417\n"
     ]
    }
   ],
   "source": [
    "# 전체 단어 개수 중 빈도수 2이하인 단어 개수는 제거.\n",
    "# 0번 패딩 토큰과 1번 OOV 토큰을 고려하여 +2\n",
    "vocab_size = total_cnt - rare_cnt + 2\n",
    "print('단어 집합의 크기 :',vocab_size)"
   ]
  },
  {
   "cell_type": "code",
   "execution_count": 25,
   "metadata": {},
   "outputs": [],
   "source": [
    "tokenizer = Tokenizer(vocab_size, oov_token = 'OOV') \n",
    "tokenizer.fit_on_texts(X_train)\n",
    "X_train = tokenizer.texts_to_sequences(X_train)\n",
    "X_test = tokenizer.texts_to_sequences(X_test)"
   ]
  },
  {
   "cell_type": "code",
   "execution_count": 26,
   "metadata": {},
   "outputs": [
    {
     "name": "stdout",
     "output_type": "stream",
     "text": [
      "[[137, 64, 81, 308, 2456, 2084, 387, 71, 15355, 12, 70, 22394, 2456, 8548, 3894, 123, 449, 124, 42, 105, 357, 50, 1176, 542, 61, 286, 145, 620, 308, 426, 3, 99, 22, 176, 11, 45, 1213, 130, 305, 1075, 115, 105, 158, 888, 58, 108, 34, 522, 776, 1610, 741, 54, 1118, 105, 357, 50, 1176, 542, 61, 3, 6], [132, 333, 420, 346, 359, 37, 12, 40, 50, 4, 35, 3, 48, 15, 2, 1748, 1433, 138, 181, 146, 246, 622, 4, 4701, 243, 1997, 113, 3, 48, 15, 2531, 522, 1433, 83, 373, 38, 16, 38, 43, 24, 62, 571, 113, 43, 140, 2, 9751, 123, 2941, 38, 98, 45, 226, 15, 2], [3960, 963, 3198, 10, 157, 64, 14, 8, 596, 75, 31, 65, 384, 383, 16, 17, 9, 55, 189, 81, 48, 5, 278, 174, 13, 175, 16, 103, 35, 112, 52, 22, 524, 20, 131, 68, 374, 73, 13, 142, 54, 26, 31, 86, 12, 235, 20, 17, 9, 6]]\n"
     ]
    }
   ],
   "source": [
    "print(X_train[:3])"
   ]
  },
  {
   "cell_type": "code",
   "execution_count": 27,
   "metadata": {},
   "outputs": [
    {
     "name": "stdout",
     "output_type": "stream",
     "text": [
      "[[204, 9, 1711, 29, 4962, 18, 79, 40, 44, 7, 56, 1249, 79, 14, 82, 18, 64, 4273, 49, 56, 3, 6, 474, 138, 33, 26, 3, 566, 525, 152, 7, 31, 34, 141, 778, 44, 64, 12, 23, 137, 3, 126, 5, 378, 10, 1061, 7, 40, 11, 347], [206, 267, 153, 605, 63, 1141, 206, 4129, 27, 27, 311, 261, 43, 238, 1, 316, 43, 2551, 8, 29, 13, 9988, 5, 27, 519, 218, 805, 69, 5566, 51, 1409, 13, 84, 218, 34, 203, 2, 145, 3, 11, 121], [533, 194, 1690, 187, 1026, 934, 202, 3770, 13, 308, 5126, 14, 5, 2, 132, 522, 130, 3161, 5, 2, 338, 801, 132, 62, 1426, 420, 5, 2, 2498, 4856, 1172, 316, 333, 350, 344, 53, 448, 2034, 386, 2034, 181, 2034, 2029, 486, 359, 316, 1500, 20469, 3605, 8023, 675, 279, 1196, 18, 211, 3392, 832, 96, 153, 127, 3085, 2, 592, 34, 512, 7, 22, 3, 6, 2, 159, 4921, 34, 367, 4371, 2, 418, 328, 3, 6, 2, 7, 77, 153, 3, 6, 2]]\n"
     ]
    }
   ],
   "source": [
    "print(X_test[:3])"
   ]
  },
  {
   "cell_type": "code",
   "execution_count": 28,
   "metadata": {},
   "outputs": [
    {
     "name": "stdout",
     "output_type": "stream",
     "text": [
      "리뷰의 최대 길이 : 1181\n",
      "리뷰의 평균 길이 : 48.84977128953771\n"
     ]
    },
    {
     "data": {
      "image/png": "[encoded data removed]",
      "text/plain": [
       "<Figure size 640x480 with 1 Axes>"
      ]
     },
     "metadata": {},
     "output_type": "display_data"
    }
   ],
   "source": [
    "print('리뷰의 최대 길이 :',max(len(review) for review in X_train))\n",
    "print('리뷰의 평균 길이 :',sum(map(len, X_train))/len(X_train))\n",
    "plt.hist([len(review) for review in X_train], bins=50)\n",
    "plt.xlabel('length of samples')\n",
    "plt.ylabel('number of samples')\n",
    "plt.show()"
   ]
  },
  {
   "cell_type": "code",
   "execution_count": 29,
   "metadata": {},
   "outputs": [
    {
     "name": "stdout",
     "output_type": "stream",
     "text": [
      "전체 샘플 중 길이가 100 이하인 샘플의 비율: 95.75425790754258\n"
     ]
    }
   ],
   "source": [
    "def below_threshold_len(max_len, nested_list):\n",
    "  count = 0\n",
    "  for sentence in nested_list:\n",
    "    if(len(sentence) <= max_len):\n",
    "        count = count + 1\n",
    "  print('전체 샘플 중 길이가 %s 이하인 샘플의 비율: %s'%(max_len, (count / len(nested_list))*100))\n",
    "\n",
    "\n",
    "max_len = 100\n",
    "below_threshold_len(max_len, X_train)"
   ]
  },
  {
   "cell_type": "code",
   "execution_count": 30,
   "metadata": {},
   "outputs": [],
   "source": [
    "X_train = pad_sequences(X_train, maxlen=max_len)\n",
    "X_test = pad_sequences(X_test, maxlen=max_len)"
   ]
  },
  {
   "cell_type": "code",
   "execution_count": 31,
   "metadata": {},
   "outputs": [
    {
     "data": {
      "text/plain": [
       "True"
      ]
     },
     "execution_count": 31,
     "metadata": {},
     "output_type": "execute_result"
    }
   ],
   "source": [
    "2 in y_train"
   ]
  },
  {
   "cell_type": "code",
   "execution_count": 33,
   "metadata": {},
   "outputs": [
    {
     "name": "stdout",
     "output_type": "stream",
     "text": [
      "Epoch 1/15\n",
      "2569/2569 [==============================] - ETA: 0s - loss: 0.4450 - acc: 0.8345 - f1_m: 0.9921\n",
      "Epoch 1: val_f1_m improved from -inf to 0.98330, saving model to best_model.h5\n",
      "2569/2569 [==============================] - 266s 103ms/step - loss: 0.4450 - acc: 0.8345 - f1_m: 0.9921 - val_loss: 0.3415 - val_acc: 0.8733 - val_f1_m: 0.9833\n",
      "Epoch 2/15\n"
     ]
    },
    {
     "name": "stderr",
     "output_type": "stream",
     "text": [
      "c:\\Users\\selah\\AppData\\Local\\Programs\\Python\\Python310\\lib\\site-packages\\keras\\src\\engine\\training.py:3000: UserWarning: You are saving your model as an HDF5 file via `model.save()`. This file format is considered legacy. We recommend using instead the native Keras format, e.g. `model.save('my_model.keras')`.\n",
      "  saving_api.save_model(\n"
     ]
    },
    {
     "name": "stdout",
     "output_type": "stream",
     "text": [
      "2569/2569 [==============================] - ETA: 0s - loss: 0.2973 - acc: 0.8884 - f1_m: 0.9842\n",
      "Epoch 2: val_f1_m did not improve from 0.98330\n",
      "2569/2569 [==============================] - 254s 99ms/step - loss: 0.2973 - acc: 0.8884 - f1_m: 0.9842 - val_loss: 0.2741 - val_acc: 0.8984 - val_f1_m: 0.9758\n",
      "Epoch 3/15\n",
      "2569/2569 [==============================] - ETA: 0s - loss: 0.2349 - acc: 0.9123 - f1_m: 0.9712\n",
      "Epoch 3: val_f1_m did not improve from 0.98330\n",
      "2569/2569 [==============================] - 275s 107ms/step - loss: 0.2349 - acc: 0.9123 - f1_m: 0.9712 - val_loss: 0.2301 - val_acc: 0.9141 - val_f1_m: 0.9592\n",
      "Epoch 4/15\n",
      "2569/2569 [==============================] - ETA: 0s - loss: 0.1922 - acc: 0.9303 - f1_m: 0.9569\n",
      "Epoch 4: val_f1_m did not improve from 0.98330\n",
      "2569/2569 [==============================] - 291s 113ms/step - loss: 0.1922 - acc: 0.9303 - f1_m: 0.9569 - val_loss: 0.2045 - val_acc: 0.9263 - val_f1_m: 0.9576\n",
      "Epoch 5/15\n",
      "2569/2569 [==============================] - ETA: 0s - loss: 0.1577 - acc: 0.9445 - f1_m: 0.9468\n",
      "Epoch 5: val_f1_m did not improve from 0.98330\n",
      "2569/2569 [==============================] - 296s 115ms/step - loss: 0.1577 - acc: 0.9445 - f1_m: 0.9468 - val_loss: 0.1903 - val_acc: 0.9324 - val_f1_m: 0.9492\n",
      "Epoch 5: early stopping\n"
     ]
    }
   ],
   "source": [
    "from keras.layers import Embedding, Dense, GRU\n",
    "from keras.models import Sequential\n",
    "from keras.models import load_model\n",
    "from keras.callbacks import EarlyStopping, ModelCheckpoint\n",
    "from keras import backend as K\n",
    "from keras.metrics import Precision, Recall\n",
    "from keras import backend as K\n",
    "\n",
    "def f1_score(y_true, y_pred): \n",
    "    true_positives = K.sum(K.round(K.clip(y_true * y_pred, 0, 1)))\n",
    "    possible_positives = K.sum(K.round(K.clip(y_true, 0, 1)))\n",
    "    predicted_positives = K.sum(K.round(K.clip(y_pred, 0, 1)))\n",
    "    precision = true_positives / (predicted_positives + K.epsilon())\n",
    "    recall = true_positives / (possible_positives + K.epsilon())\n",
    "    f1_val = 2*(precision*recall) / (precision+recall+K.epsilon())\n",
    "    return f1_val\n",
    "\n",
    "\n",
    "embedding_dim = 100\n",
    "hidden_units = 128\n",
    "\n",
    "model = Sequential()\n",
    "model.add(Embedding(vocab_size, embedding_dim))\n",
    "model.add(GRU(hidden_units))\n",
    "model.add(Dense(3, activation='softmax'))  # 클래스가 3개라서 뉴런 수를 3으로, 활성화 함수를 softmax로 설정\n",
    "\n",
    "es = EarlyStopping(monitor='val_f1_m', mode='max', verbose=1, patience=4)\n",
    "mc = ModelCheckpoint('best_model.h5', monitor='val_f1_m', mode='max', verbose=1, save_best_only=True)\n",
    "\n",
    "\n",
    "# 모델 컴파일\n",
    "model.compile(optimizer='rmsprop', \n",
    "              loss='sparse_categorical_crossentropy', \n",
    "              metrics=['acc', f1_score])\n",
    "\n",
    "\n",
    "# 모델 학습\n",
    "history = model.fit(X_train, y_train, epochs=15, callbacks=[es, mc], batch_size=64, validation_split=0.2)\n",
    "\n"
   ]
  },
  {
   "cell_type": "code",
   "execution_count": 34,
   "metadata": {},
   "outputs": [
    {
     "name": "stdout",
     "output_type": "stream",
     "text": [
      "1346/1346 [==============================] - 13s 10ms/step - loss: 0.1639 - acc: 0.9430 - f1_m: 1.0107\n",
      "테스트 정확도: 0.9430\n"
     ]
    }
   ],
   "source": [
    "test_score = model.evaluate(X_test, y_test)\n",
    "print(\"테스트 정확도: %.4f\" % test_score[1])"
   ]
  },
  {
   "cell_type": "code",
   "execution_count": 40,
   "metadata": {},
   "outputs": [
    {
     "name": "stdout",
     "output_type": "stream",
     "text": [
      "1/1 [==============================] - 0s 19ms/step\n",
      "[[9.6245700e-01 3.6724068e-02 8.1888377e-04]]\n",
      "긍정 리뷰입니다.\n"
     ]
    }
   ],
   "source": [
    "def sentiment_predict(new_sentence):\n",
    "  new_sentence = re.sub(r'[^ㄱ-ㅎㅏ-ㅣ가-힣 ]','', new_sentence)\n",
    "  new_sentence = mecab.morphs(new_sentence)  # mecab이 이미 선언되어 있어야 함\n",
    "  new_sentence = [word for word in new_sentence if not word in stopwords]  # stopwords가 이미 선언되어 있어야 함\n",
    "  encoded = tokenizer.texts_to_sequences([new_sentence])  # tokenizer가 이미 선언되어 있어야 함\n",
    "  pad_new = pad_sequences(encoded, maxlen=max_len)  # max_len이 이미 선언되어 있어야 함\n",
    "  \n",
    "  scores = model.predict(pad_new)  # 모델이 메모리에 로드되어 있어야 함\n",
    "  print(scores)  # 디버깅용\n",
    "  \n",
    "  predicted_class = np.argmax(scores)  # 가장 확률이 높은 클래스를 선택\n",
    "  \n",
    "  if predicted_class == 0:\n",
    "    print(\"긍정 리뷰입니다.\")\n",
    "  elif predicted_class == 1:\n",
    "    print(\"중립 리뷰입니다.\")\n",
    "  else:\n",
    "    print(\"부정 리뷰입니다.\")\n",
    "\n",
    "    \n",
    "sentiment_predict('최악이에요')"
   ]
  },
  {
   "cell_type": "code",
   "execution_count": null,
   "metadata": {},
   "outputs": [],
   "source": []
  }
 ],
 "metadata": {
  "kernelspec": {
   "display_name": "Python 3",
   "language": "python",
   "name": "python3"
  },
  "language_info": {
   "codemirror_mode": {
    "name": "ipython",
    "version": 3
   },
   "file_extension": ".py",
   "mimetype": "text/x-python",
   "name": "python",
   "nbconvert_exporter": "python",
   "pygments_lexer": "ipython3",
   "version": "3.10.11"
  },
  "orig_nbformat": 4
 },
 "nbformat": 4,
 "nbformat_minor": 2
}
